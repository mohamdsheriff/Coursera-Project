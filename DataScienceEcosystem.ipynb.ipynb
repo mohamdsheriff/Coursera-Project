{
  "nbformat": 4,
  "nbformat_minor": 0,
  "metadata": {
    "colab": {
      "provenance": []
    },
    "kernelspec": {
      "name": "python3",
      "display_name": "Python 3"
    },
    "language_info": {
      "name": "python"
    }
  },
  "cells": [
    {
      "cell_type": "code",
      "execution_count": 1,
      "metadata": {
        "id": "FgorrjzCldOa"
      },
      "outputs": [],
      "source": [
        "#1- Create markdown cell with title of the notebook\n",
        "\n",
        "# Data Science Tools and Ecosystem\n"
      ]
    },
    {
      "cell_type": "code",
      "source": [
        "#2-Create a markdown cell for an introduction\n",
        "\n",
        "#In this notebook, Data Science Tools and Ecosystem are summarized. This document provides an overview of the various tools and components\n",
        "#that make up the data science ecosystem, helping you gain insights into the essential resources available for your data analysis and machine learning projects.\n"
      ],
      "metadata": {
        "id": "6odrio6-mXwG"
      },
      "execution_count": 2,
      "outputs": []
    },
    {
      "cell_type": "code",
      "source": [
        "#3- Create a markdown cell to list data science languages\n",
        "\n",
        "## Data Science Languages\n",
        "\n",
        "#Some of the popular languages that Data Scientists use are:\n",
        "\n",
        "#1. Python\n",
        "#2. R\n",
        "#3. SQL\n",
        "#4. Julia\n",
        "#5. Scala\n"
      ],
      "metadata": {
        "id": "7TwvdSwCms8X"
      },
      "execution_count": 3,
      "outputs": []
    },
    {
      "cell_type": "code",
      "source": [
        "#4-Create a markdown cell to list data science libraries\n",
        "\n",
        "\n",
        "#Some of the commonly used libraries used by Data Scientists include:\n",
        "\n",
        "#1. NumPy - A fundamental library for numerical computing in Python.\n",
        "#2. pandas - A data manipulation and analysis library that provides powerful data structures for data cleaning, transformation, and analysis.\n",
        "#3. scikit-learn - A machine learning library for Python that offers a wide range of tools for classification, regression, clustering, and more.\n",
        "#4. Matplotlib - A popular data visualization library for creating static, animated, and interactive plots in Python.\n",
        "#5. TensorFlow - An open-source machine learning framework developed by Google for building and training deep learning models.\n"
      ],
      "metadata": {
        "id": "BsN_kwism8zY"
      },
      "execution_count": 4,
      "outputs": []
    },
    {
      "cell_type": "code",
      "source": [
        "#5-Create a markdown cell with a table of Data Science tools\n",
        "\n",
        "## Data Science Tools\n",
        "\n",
        "#| Data Science Tools        |\n",
        "#|---------------------------|\n",
        "#| Jupyter Notebook          |\n",
        "#| RStudio                   |\n",
        "#| Visual Studio Code (VSCode)|\n"
      ],
      "metadata": {
        "id": "MepA6qj2nNav"
      },
      "execution_count": 5,
      "outputs": []
    },
    {
      "cell_type": "code",
      "source": [
        "#6- Create a markdown cell introducing arithmetic expression examples\n",
        "\n",
        "\n",
        "#Below are a few examples of evaluating arithmetic expressions in Python. In this section, we'll explore some common mathematical operations and expressions using Python.\n"
      ],
      "metadata": {
        "id": "cqsiguGancBc"
      },
      "execution_count": 6,
      "outputs": []
    },
    {
      "cell_type": "code",
      "source": [
        "#7- Create a code cell to multiply and add numbers\n",
        "\n",
        "\n",
        "result = (3 * 4) + 5\n",
        "result\n"
      ],
      "metadata": {
        "colab": {
          "base_uri": "https://localhost:8080/"
        },
        "id": "isL4B99Nnsi1",
        "outputId": "6b4a271f-36bc-482e-bd01-a700ad9e2408"
      },
      "execution_count": 7,
      "outputs": [
        {
          "output_type": "execute_result",
          "data": {
            "text/plain": [
              "17"
            ]
          },
          "metadata": {},
          "execution_count": 7
        }
      ]
    },
    {
      "cell_type": "code",
      "source": [
        "#8- Create a code cell to convert minutes to hours\n",
        "\n",
        "\n",
        "minutes = 200\n",
        "hours = minutes / 60\n",
        "hours\n"
      ],
      "metadata": {
        "colab": {
          "base_uri": "https://localhost:8080/"
        },
        "id": "9YRTEkG4n7bO",
        "outputId": "5afdf741-99f6-4d5b-dc5d-df570d73dd3a"
      },
      "execution_count": 8,
      "outputs": [
        {
          "output_type": "execute_result",
          "data": {
            "text/plain": [
              "3.3333333333333335"
            ]
          },
          "metadata": {},
          "execution_count": 8
        }
      ]
    },
    {
      "cell_type": "code",
      "source": [
        "#9-Insert a markdown cell to list Objectives\n",
        "\n",
        "\n",
        "\n",
        "# List popular languages for Data Science.\n",
        "#Introduce commonly used libraries in Data Science.\n",
        "# Highlight key tools in the Data Science ecosystem.\n",
        "# Provide examples of evaluating arithmetic expressions in Python.\n",
        "#Demonstrate how to convert minutes to hours in Python.\n"
      ],
      "metadata": {
        "id": "bWRP8sq9oHiY"
      },
      "execution_count": 9,
      "outputs": []
    },
    {
      "cell_type": "code",
      "source": [
        "#10-Create a markdown cell to indicate the Author's name\n",
        "\n",
        "  #Author:-\n",
        "#Mohamed Sherif\n"
      ],
      "metadata": {
        "id": "yzvNHl3IoZmI"
      },
      "execution_count": 11,
      "outputs": []
    }
  ]
}